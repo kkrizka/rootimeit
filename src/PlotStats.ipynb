{
 "cells": [
  {
   "cell_type": "code",
   "execution_count": 1,
   "metadata": {
    "collapsed": false,
    "deletable": true,
    "editable": true
   },
   "outputs": [
    {
     "data": {
      "application/javascript": [
       "\n",
       "Jupyter.CodeCell.options_default.highlight_modes['magic_text/x-c++src'] = {'reg':[/^%%cpp/]};\n",
       "console.log(\"JupyROOT - %%cpp magic configured\");\n"
      ]
     },
     "metadata": {},
     "output_type": "display_data"
    },
    {
     "name": "stdout",
     "output_type": "stream",
     "text": [
      "Welcome to JupyROOT 6.09/03\n"
     ]
    },
    {
     "data": {
      "text/plain": [
       "0"
      ]
     },
     "execution_count": 1,
     "metadata": {},
     "output_type": "execute_result"
    }
   ],
   "source": [
    "%matplotlib inline\n",
    "from math import *\n",
    "\n",
    "import matplotlib.pyplot as plt\n",
    "import numpy as np\n",
    "import glob\n",
    "import re\n",
    "\n",
    "import ROOT\n",
    "ROOT.gSystem.Load(\"librootimeit.so\")"
   ]
  },
  {
   "cell_type": "code",
   "execution_count": 2,
   "metadata": {
    "collapsed": true,
    "deletable": true,
    "editable": true
   },
   "outputs": [],
   "source": [
    "def runNBranch(lb,nBranch):\n",
    "    lb.setNBranches(nBranch)\n",
    "    return lb.runTest()\n",
    "\n",
    "def runNHist(lb,nHist):\n",
    "    lb.setNHists(nHist)\n",
    "    return lb.runTest()"
   ]
  },
  {
   "cell_type": "code",
   "execution_count": 24,
   "metadata": {
    "collapsed": false,
    "deletable": true,
    "editable": true
   },
   "outputs": [
    {
     "name": "stdout",
     "output_type": "stream",
     "text": [
      "Rate: 55 kHz\n",
      "Read Speed: 250.614928 Mb/s\n"
     ]
    }
   ],
   "source": [
    "lb=ROOT.LoadVector()\n",
    "lb.setPath(\"/ssdisk02/rootimeit/test_vector_nbr00050_comp0.root\")\n",
    "lb.setNBranches(50)\n",
    "lb.setNHists(0)\n",
    "test_vector_nbr00050_comp0=lb.runTest()\n",
    "print('Rate: %d kHz'%(1e-3/test_vector_nbr00050_comp0))\n",
    "print('Read Speed: %f Mb/s'%(lb.eventSize()/test_vector_nbr00050_comp0/1024**2))"
   ]
  },
  {
   "cell_type": "code",
   "execution_count": 25,
   "metadata": {
    "collapsed": false,
    "deletable": true,
    "editable": true
   },
   "outputs": [
    {
     "name": "stdout",
     "output_type": "stream",
     "text": [
      "Rate: 138 kHz\n",
      "Read Speed: 527.419404 Mb/s\n"
     ]
    }
   ],
   "source": [
    "lb=ROOT.LoadArray()\n",
    "lb.setPath(\"/ssdisk02/rootimeit/test_array_nbr00050_comp0.root\")\n",
    "lb.setNBranches(50)\n",
    "lb.setNHists(0)\n",
    "time_array_nbr00050_comp0=lb.runTest()\n",
    "print('Rate: %d kHz'%(1e-3/time_array_nbr00050_comp0))\n",
    "print('Read Speed: %f Mb/s'%(lb.eventSize()/time_array_nbr00050_comp0/1024**2))"
   ]
  },
  {
   "cell_type": "code",
   "execution_count": 26,
   "metadata": {
    "collapsed": false
   },
   "outputs": [
    {
     "name": "stdout",
     "output_type": "stream",
     "text": [
      "Rate: 118 kHz\n",
      "Read Speed: 473.796103 Mb/s\n"
     ]
    }
   ],
   "source": [
    "lb=ROOT.LoadArray()\n",
    "lb.setPath(\"/ssdisk02/rootimeit/test_vararray_nbr00050_comp0.root\")\n",
    "lb.setNBranches(50)\n",
    "lb.setNHists(0)\n",
    "time_vararray_nbr00050_comp0=lb.runTest()\n",
    "print('Rate: %d kHz'%(1e-3/time_vararray_nbr00050_comp0))\n",
    "print('Read Speed: %f Mb/s'%(lb.eventSize()/time_vararray_nbr00050_comp0/1024**2))"
   ]
  },
  {
   "cell_type": "code",
   "execution_count": 27,
   "metadata": {
    "collapsed": false,
    "deletable": true,
    "editable": true
   },
   "outputs": [
    {
     "name": "stdout",
     "output_type": "stream",
     "text": [
      "Rate: 119 kHz\n",
      "Read Speed: 261.982184 Mb/s\n"
     ]
    }
   ],
   "source": [
    "lb=ROOT.LoadTClonesArray()\n",
    "lb.setPath(\"/ssdisk02/rootimeit/test_tclonesarray_nbr00050_comp0.root\")\n",
    "lb.setNBranches(50)\n",
    "lb.setNHists(0)\n",
    "time_tclonesarray_nbr00050_comp0=lb.runTest()\n",
    "print('Rate: %d kHz'%(1e-3/time_tclonesarray_nbr00050_comp0))\n",
    "print('Read Speed: %f Mb/s'%(lb.eventSize()/time_tclonesarray_nbr00050_comp0/1024**2))"
   ]
  },
  {
   "cell_type": "code",
   "execution_count": null,
   "metadata": {
    "collapsed": false,
    "deletable": true,
    "editable": true
   },
   "outputs": [],
   "source": [
    "nBranches=np.arange(0,50)\n",
    "times_nbr=np.array([runNBranch(lb,int(nBranch)) for nBranch in nBranches])"
   ]
  },
  {
   "cell_type": "code",
   "execution_count": null,
   "metadata": {
    "collapsed": false,
    "deletable": true,
    "editable": true
   },
   "outputs": [],
   "source": [
    "bandwidth=lb.eventSize()/times/1024**2\n",
    "plt.plot(nBranches, bandwidth)\n",
    "plt.xlabel('# of branches')\n",
    "plt.ylabel('Read Rate (MB/s)')"
   ]
  },
  {
   "cell_type": "code",
   "execution_count": null,
   "metadata": {
    "collapsed": false,
    "deletable": true,
    "editable": true
   },
   "outputs": [],
   "source": [
    "nHists=np.arange(0,101,10)\n",
    "times_nhist=np.array([runNHist(lb,int(nHist)) for nHist in nHists]);"
   ]
  },
  {
   "cell_type": "code",
   "execution_count": null,
   "metadata": {
    "collapsed": false,
    "deletable": true,
    "editable": true
   },
   "outputs": [],
   "source": [
    "l=np.polyfit(nHists,times,deg=1)\n",
    "f=np.poly1d(l)\n",
    "\n",
    "plt.plot(nHists, times)\n",
    "plt.plot(nHists, f(nHists))\n",
    "plt.xlabel('# of histograms')\n",
    "plt.ylabel('Time/Event (s)')"
   ]
  },
  {
   "cell_type": "code",
   "execution_count": null,
   "metadata": {
    "collapsed": false,
    "deletable": true,
    "editable": true
   },
   "outputs": [],
   "source": [
    "re_nbr=re.compile('.*/test_nbr([0-9]+)_comp0.root')\n",
    "\n",
    "nbr=np.array([],dtype=np.int32)\n",
    "fsize=np.array([],dtype=np.float)\n",
    "times=np.array([],dtype=np.float)\n",
    "\n",
    "for filepath in glob.glob('/ssdisk02/rootimeit/test_nbr*_comp0.root'):\n",
    "    match=re_nbr.match(filepath)\n",
    "    lb_nbr=ROOT.LoadBase()\n",
    "    lb_nbr.setPath(filepath)\n",
    "    lb_nbr.setNBranches(int(match.group(1)))\n",
    "    lb_nbr.setNHists(0)\n",
    "    nbr=np.append(nbr,[int(match.group(1))])\n",
    "    fsize=np.append(fsize,[lb_nbr.eventSize()])\n",
    "    times=np.append(times,[lb_nbr.runTest()])"
   ]
  },
  {
   "cell_type": "code",
   "execution_count": null,
   "metadata": {
    "collapsed": false,
    "deletable": true,
    "editable": true
   },
   "outputs": [],
   "source": [
    "plt.plot(nbr,fsize/times/1024**2,'o')"
   ]
  },
  {
   "cell_type": "code",
   "execution_count": null,
   "metadata": {
    "collapsed": false,
    "deletable": true,
    "editable": true
   },
   "outputs": [],
   "source": [
    "plt.plot(nbr,fsize,'o')"
   ]
  },
  {
   "cell_type": "code",
   "execution_count": null,
   "metadata": {
    "collapsed": true,
    "deletable": true,
    "editable": true
   },
   "outputs": [],
   "source": []
  }
 ],
 "metadata": {
  "kernelspec": {
   "display_name": "Python 3",
   "language": "python",
   "name": "python3"
  },
  "language_info": {
   "codemirror_mode": {
    "name": "ipython",
    "version": 3
   },
   "file_extension": ".py",
   "mimetype": "text/x-python",
   "name": "python",
   "nbconvert_exporter": "python",
   "pygments_lexer": "ipython3",
   "version": "3.4.6"
  }
 },
 "nbformat": 4,
 "nbformat_minor": 2
}
