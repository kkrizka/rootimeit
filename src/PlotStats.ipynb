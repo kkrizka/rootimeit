{
 "cells": [
  {
   "cell_type": "code",
   "execution_count": 1,
   "metadata": {
    "collapsed": false,
    "deletable": true,
    "editable": true
   },
   "outputs": [
    {
     "data": {
      "application/javascript": [
       "\n",
       "Jupyter.CodeCell.options_default.highlight_modes['magic_text/x-c++src'] = {'reg':[/^%%cpp/]};\n",
       "console.log(\"JupyROOT - %%cpp magic configured\");\n"
      ]
     },
     "metadata": {},
     "output_type": "display_data"
    },
    {
     "name": "stdout",
     "output_type": "stream",
     "text": [
      "Welcome to JupyROOT 6.09/03\n"
     ]
    },
    {
     "data": {
      "text/plain": [
       "0"
      ]
     },
     "execution_count": 1,
     "metadata": {},
     "output_type": "execute_result"
    }
   ],
   "source": [
    "%matplotlib inline\n",
    "from math import *\n",
    "\n",
    "import matplotlib.pyplot as plt\n",
    "import numpy as np\n",
    "import glob\n",
    "import re\n",
    "\n",
    "import ROOT\n",
    "ROOT.gSystem.Load(\"librootimeit.so\")"
   ]
  },
  {
   "cell_type": "code",
   "execution_count": 2,
   "metadata": {
    "collapsed": true,
    "deletable": true,
    "editable": true
   },
   "outputs": [],
   "source": [
    "def runNBranch(lb,nBranch):\n",
    "    lb.setNBranches(nBranch)\n",
    "    return lb.runTest()\n",
    "\n",
    "def runNHist(lb,nHist):\n",
    "    lb.setNHists(nHist)\n",
    "    return lb.runTest()"
   ]
  },
  {
   "cell_type": "code",
   "execution_count": 3,
   "metadata": {
    "collapsed": false,
    "deletable": true,
    "editable": true
   },
   "outputs": [
    {
     "data": {
      "text/plain": [
       "248.7818846241775"
      ]
     },
     "execution_count": 3,
     "metadata": {},
     "output_type": "execute_result"
    }
   ],
   "source": [
    "lb=ROOT.LoadVector()\n",
    "lb.setPath(\"/ssdisk02/rootimeit/test_nbr00050_comp0.root\")\n",
    "lb.setNBranches(50)\n",
    "lb.setNHists(0)\n",
    "time_nbr00050_comp0=lb.runTest()\n",
    "lb.eventSize()/time_nbr00050_comp0/1024**2"
   ]
  },
  {
   "cell_type": "code",
   "execution_count": 4,
   "metadata": {
    "collapsed": false
   },
   "outputs": [
    {
     "data": {
      "text/plain": [
       "507.91045298104683"
      ]
     },
     "execution_count": 4,
     "metadata": {},
     "output_type": "execute_result"
    }
   ],
   "source": [
    "lb=ROOT.LoadArray()\n",
    "lb.setPath(\"/ssdisk02/rootimeit/test_array_nbr00050_comp0.root\")\n",
    "lb.setNBranches(50)\n",
    "lb.setNHists(0)\n",
    "time_array_nbr00050_comp0=lb.runTest()\n",
    "lb.eventSize()/time_array_nbr00050_comp0/1024**2"
   ]
  },
  {
   "cell_type": "code",
   "execution_count": 9,
   "metadata": {
    "collapsed": false,
    "deletable": true,
    "editable": true
   },
   "outputs": [
    {
     "data": {
      "text/plain": [
       "9.113222195067276"
      ]
     },
     "execution_count": 9,
     "metadata": {},
     "output_type": "execute_result"
    }
   ],
   "source": [
    "lb=ROOT.LoadTClonesArray()\n",
    "lb.setPath(\"/ssdisk02/rootimeit/test_tclonesarray_nbr00050_comp1.root\")\n",
    "lb.setNBranches(50)\n",
    "lb.setNHists(0)\n",
    "time_tclonesarray_nbr00050_comp0=lb.runTest()\n",
    "lb.eventSize()/time_tclonesarray_nbr00050_comp0/1024**2"
   ]
  },
  {
   "cell_type": "code",
   "execution_count": 10,
   "metadata": {
    "collapsed": false,
    "deletable": true,
    "editable": true
   },
   "outputs": [
    {
     "data": {
      "text/plain": [
       "88480.61181865615"
      ]
     },
     "execution_count": 10,
     "metadata": {},
     "output_type": "execute_result"
    }
   ],
   "source": [
    "1./time_tclonesarray_nbr00050_comp0"
   ]
  },
  {
   "cell_type": "code",
   "execution_count": null,
   "metadata": {
    "collapsed": false,
    "deletable": true,
    "editable": true
   },
   "outputs": [],
   "source": [
    "nBranches=np.arange(0,50)\n",
    "times_nbr=np.array([runNBranch(lb,int(nBranch)) for nBranch in nBranches])"
   ]
  },
  {
   "cell_type": "code",
   "execution_count": null,
   "metadata": {
    "collapsed": false,
    "deletable": true,
    "editable": true
   },
   "outputs": [],
   "source": [
    "bandwidth=lb.eventSize()/times/1024**2\n",
    "plt.plot(nBranches, bandwidth)\n",
    "plt.xlabel('# of branches')\n",
    "plt.ylabel('Read Rate (MB/s)')"
   ]
  },
  {
   "cell_type": "code",
   "execution_count": null,
   "metadata": {
    "collapsed": false,
    "deletable": true,
    "editable": true
   },
   "outputs": [],
   "source": [
    "nHists=np.arange(0,101,10)\n",
    "times_nhist=np.array([runNHist(lb,int(nHist)) for nHist in nHists]);"
   ]
  },
  {
   "cell_type": "code",
   "execution_count": null,
   "metadata": {
    "collapsed": false,
    "deletable": true,
    "editable": true
   },
   "outputs": [],
   "source": [
    "l=np.polyfit(nHists,times,deg=1)\n",
    "f=np.poly1d(l)\n",
    "\n",
    "plt.plot(nHists, times)\n",
    "plt.plot(nHists, f(nHists))\n",
    "plt.xlabel('# of histograms')\n",
    "plt.ylabel('Time/Event (s)')"
   ]
  },
  {
   "cell_type": "code",
   "execution_count": null,
   "metadata": {
    "collapsed": false,
    "deletable": true,
    "editable": true
   },
   "outputs": [],
   "source": [
    "re_nbr=re.compile('.*/test_nbr([0-9]+)_comp0.root')\n",
    "\n",
    "nbr=np.array([],dtype=np.int32)\n",
    "fsize=np.array([],dtype=np.float)\n",
    "times=np.array([],dtype=np.float)\n",
    "\n",
    "for filepath in glob.glob('/ssdisk02/rootimeit/test_nbr*_comp0.root'):\n",
    "    match=re_nbr.match(filepath)\n",
    "    lb_nbr=ROOT.LoadBase()\n",
    "    lb_nbr.setPath(filepath)\n",
    "    lb_nbr.setNBranches(int(match.group(1)))\n",
    "    lb_nbr.setNHists(0)\n",
    "    nbr=np.append(nbr,[int(match.group(1))])\n",
    "    fsize=np.append(fsize,[lb_nbr.eventSize()])\n",
    "    times=np.append(times,[lb_nbr.runTest()])"
   ]
  },
  {
   "cell_type": "code",
   "execution_count": null,
   "metadata": {
    "collapsed": false,
    "deletable": true,
    "editable": true
   },
   "outputs": [],
   "source": [
    "plt.plot(nbr,fsize/times/1024**2,'o')"
   ]
  },
  {
   "cell_type": "code",
   "execution_count": null,
   "metadata": {
    "collapsed": false,
    "deletable": true,
    "editable": true
   },
   "outputs": [],
   "source": [
    "plt.plot(nbr,fsize,'o')"
   ]
  },
  {
   "cell_type": "code",
   "execution_count": null,
   "metadata": {
    "collapsed": true
   },
   "outputs": [],
   "source": []
  }
 ],
 "metadata": {
  "kernelspec": {
   "display_name": "Python 3",
   "language": "python",
   "name": "python3"
  },
  "language_info": {
   "codemirror_mode": {
    "name": "ipython",
    "version": 3
   },
   "file_extension": ".py",
   "mimetype": "text/x-python",
   "name": "python",
   "nbconvert_exporter": "python",
   "pygments_lexer": "ipython3",
   "version": "3.4.6"
  }
 },
 "nbformat": 4,
 "nbformat_minor": 2
}
